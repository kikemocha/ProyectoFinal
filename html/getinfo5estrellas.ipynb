{
 "cells": [
  {
   "cell_type": "code",
   "execution_count": 22,
   "metadata": {},
   "outputs": [],
   "source": [
    "import pandas as pd\n",
    "import numpy as np\n",
    "from os import listdir\n",
    "from bs4 import BeautifulSoup\n",
    "\n",
    "\n",
    "onlyfiles = [f for f in listdir('.')]\n",
    "df_final = pd.DataFrame(columns=['name','url','precio','puntuacion','localización','n_personas','noches'])\n",
    "        "
   ]
  },
  {
   "cell_type": "code",
   "execution_count": 23,
   "metadata": {},
   "outputs": [],
   "source": [
    "def save_data(html_raw, city, num_p, num_n):\n",
    "        df = pd.DataFrame(columns=['name','url','precio','puntuacion','localización','n_personas','noches'])\n",
    "        soup = BeautifulSoup(html_raw, 'html.parser')\n",
    "        print(f'total hoteles encontrados en {city}: ', len(soup.find_all('div', attrs={'data-testid' : 'property-card'})))\n",
    "        for row in soup.find_all('div', attrs={'data-testid' : 'property-card'}):\n",
    "            name = row.find('div', attrs={'data-testid' : 'title'}).text\n",
    "            url = row.find('a', class_='f0ebe87f68')['href']\n",
    "            try:\n",
    "                precio = row.find('span', attrs={'data-testid': 'price-and-discounted-price'}).text[2:]\n",
    "            except:\n",
    "                precio = np.nan\n",
    "            try:\n",
    "                puntuacion = row.find('div', class_='d0522b0cca fd44f541d8').text.split()[-1]\n",
    "            except:\n",
    "                puntuacion = np.nan\n",
    "            localización = row.find('span', attrs={'data-testid':'address'}).text\n",
    "            df.loc[len(df.index)] = [name, url, precio, puntuacion, localización, num_p, num_n]\n",
    "        df['city'] = city\n",
    "        return df"
   ]
  },
  {
   "cell_type": "code",
   "execution_count": 24,
   "metadata": {},
   "outputs": [
    {
     "name": "stdout",
     "output_type": "stream",
     "text": [
      "total hoteles encontrados en 1:  25\n",
      "total hoteles encontrados en 1:  25\n",
      "total hoteles encontrados en 1:  25\n",
      "total hoteles encontrados en 2:  5\n",
      "total hoteles encontrados en 2:  5\n",
      "total hoteles encontrados en 2:  8\n",
      "total hoteles encontrados en 3:  6\n",
      "total hoteles encontrados en 3:  6\n",
      "total hoteles encontrados en 3:  7\n",
      "total hoteles encontrados en 4:  26\n",
      "total hoteles encontrados en 4:  26\n",
      "total hoteles encontrados en 4:  26\n",
      "total hoteles encontrados en 5:  25\n",
      "total hoteles encontrados en 5:  25\n",
      "total hoteles encontrados en 5:  25\n",
      "total hoteles encontrados en 6:  5\n",
      "total hoteles encontrados en 6:  5\n",
      "total hoteles encontrados en 6:  5\n",
      "total hoteles encontrados en 8:  7\n",
      "total hoteles encontrados en 8:  7\n",
      "total hoteles encontrados en 8:  7\n",
      "total hoteles encontrados en 7:  18\n",
      "total hoteles encontrados en 7:  18\n",
      "total hoteles encontrados en 7:  24\n",
      "total hoteles encontrados en 9:  25\n",
      "total hoteles encontrados en 9:  25\n",
      "total hoteles encontrados en 9:  25\n",
      "total hoteles encontrados en 11:  6\n",
      "total hoteles encontrados en 11:  6\n",
      "total hoteles encontrados en 11:  10\n",
      "total hoteles encontrados en 12:  8\n",
      "total hoteles encontrados en 12:  8\n",
      "total hoteles encontrados en 12:  7\n",
      "total hoteles encontrados en 17:  1\n",
      "total hoteles encontrados en 17:  1\n",
      "total hoteles encontrados en 17:  2\n",
      "total hoteles encontrados en 13:  25\n",
      "total hoteles encontrados en 13:  25\n",
      "total hoteles encontrados en 13:  26\n",
      "total hoteles encontrados en 14:  2\n",
      "total hoteles encontrados en 14:  2\n",
      "total hoteles encontrados en 14:  3\n",
      "total hoteles encontrados en 15:  2\n",
      "total hoteles encontrados en 15:  2\n",
      "total hoteles encontrados en 15:  3\n",
      "total hoteles encontrados en 16:  7\n",
      "total hoteles encontrados en 16:  7\n",
      "total hoteles encontrados en 16:  7\n",
      "total hoteles encontrados en 10:  14\n",
      "total hoteles encontrados en 10:  14\n",
      "total hoteles encontrados en 10:  22\n"
     ]
    }
   ],
   "source": [
    "for file in onlyfiles:\n",
    "    city = int(input(f'int {file}: '))\n",
    "    if city == 0:\n",
    "        pass\n",
    "    else:\n",
    "        num_p = file.split('_')[2].replace('p','')\n",
    "        num_n = file.split('_')[3].replace('n','')\n",
    "        with open(file, 'rb') as html:\n",
    "            df_final = pd.concat([df_final, save_data(html, city, num_p, num_n)], axis=0, ignore_index=True)"
   ]
  },
  {
   "cell_type": "code",
   "execution_count": 30,
   "metadata": {},
   "outputs": [],
   "source": [
    "df_final['luxury'] = 1"
   ]
  },
  {
   "cell_type": "code",
   "execution_count": 32,
   "metadata": {},
   "outputs": [],
   "source": [
    "df_final.to_csv('../luxury_hotels.csv', index=False)"
   ]
  }
 ],
 "metadata": {
  "kernelspec": {
   "display_name": "DatAnalist",
   "language": "python",
   "name": "python3"
  },
  "language_info": {
   "codemirror_mode": {
    "name": "ipython",
    "version": 3
   },
   "file_extension": ".py",
   "mimetype": "text/x-python",
   "name": "python",
   "nbconvert_exporter": "python",
   "pygments_lexer": "ipython3",
   "version": "3.12.2"
  }
 },
 "nbformat": 4,
 "nbformat_minor": 2
}
